{
 "cells": [
  {
   "cell_type": "code",
   "execution_count": 2,
   "metadata": {
    "colab": {
     "base_uri": "https://localhost:8080/",
     "height": 73
    },
    "id": "0jO4qdd5oMIx",
    "outputId": "a6479f89-4136-404d-ad13-ad7591b8efce"
   },
   "outputs": [
    {
     "name": "stderr",
     "output_type": "stream",
     "text": [
      "<ipython-input-2-16742f71c6d0>:79: UserWarning: Boolean Series key will be reindexed to match DataFrame index.\n",
      "  log_df = log_df.drop(log_df[condition2].index)\n"
     ]
    },
    {
     "data": {
      "application/javascript": [
       "\n",
       "    async function download(id, filename, size) {\n",
       "      if (!google.colab.kernel.accessAllowed) {\n",
       "        return;\n",
       "      }\n",
       "      const div = document.createElement('div');\n",
       "      const label = document.createElement('label');\n",
       "      label.textContent = `Downloading \"${filename}\": `;\n",
       "      div.appendChild(label);\n",
       "      const progress = document.createElement('progress');\n",
       "      progress.max = size;\n",
       "      div.appendChild(progress);\n",
       "      document.body.appendChild(div);\n",
       "\n",
       "      const buffers = [];\n",
       "      let downloaded = 0;\n",
       "\n",
       "      const channel = await google.colab.kernel.comms.open(id);\n",
       "      // Send a message to notify the kernel that we're ready.\n",
       "      channel.send({})\n",
       "\n",
       "      for await (const message of channel.messages) {\n",
       "        // Send a message to notify the kernel that we're ready.\n",
       "        channel.send({})\n",
       "        if (message.buffers) {\n",
       "          for (const buffer of message.buffers) {\n",
       "            buffers.push(buffer);\n",
       "            downloaded += buffer.byteLength;\n",
       "            progress.value = downloaded;\n",
       "          }\n",
       "        }\n",
       "      }\n",
       "      const blob = new Blob(buffers, {type: 'application/binary'});\n",
       "      const a = document.createElement('a');\n",
       "      a.href = window.URL.createObjectURL(blob);\n",
       "      a.download = filename;\n",
       "      div.appendChild(a);\n",
       "      a.click();\n",
       "      div.remove();\n",
       "    }\n",
       "  "
      ],
      "text/plain": [
       "<IPython.core.display.Javascript object>"
      ]
     },
     "metadata": {},
     "output_type": "display_data"
    },
    {
     "data": {
      "application/javascript": [
       "download(\"download_b67342dd-e7fa-4625-b252-4e77eedc0772\", \"data_df.csv\", 35438)"
      ],
      "text/plain": [
       "<IPython.core.display.Javascript object>"
      ]
     },
     "metadata": {},
     "output_type": "display_data"
    },
    {
     "data": {
      "application/javascript": [
       "\n",
       "    async function download(id, filename, size) {\n",
       "      if (!google.colab.kernel.accessAllowed) {\n",
       "        return;\n",
       "      }\n",
       "      const div = document.createElement('div');\n",
       "      const label = document.createElement('label');\n",
       "      label.textContent = `Downloading \"${filename}\": `;\n",
       "      div.appendChild(label);\n",
       "      const progress = document.createElement('progress');\n",
       "      progress.max = size;\n",
       "      div.appendChild(progress);\n",
       "      document.body.appendChild(div);\n",
       "\n",
       "      const buffers = [];\n",
       "      let downloaded = 0;\n",
       "\n",
       "      const channel = await google.colab.kernel.comms.open(id);\n",
       "      // Send a message to notify the kernel that we're ready.\n",
       "      channel.send({})\n",
       "\n",
       "      for await (const message of channel.messages) {\n",
       "        // Send a message to notify the kernel that we're ready.\n",
       "        channel.send({})\n",
       "        if (message.buffers) {\n",
       "          for (const buffer of message.buffers) {\n",
       "            buffers.push(buffer);\n",
       "            downloaded += buffer.byteLength;\n",
       "            progress.value = downloaded;\n",
       "          }\n",
       "        }\n",
       "      }\n",
       "      const blob = new Blob(buffers, {type: 'application/binary'});\n",
       "      const a = document.createElement('a');\n",
       "      a.href = window.URL.createObjectURL(blob);\n",
       "      a.download = filename;\n",
       "      div.appendChild(a);\n",
       "      a.click();\n",
       "      div.remove();\n",
       "    }\n",
       "  "
      ],
      "text/plain": [
       "<IPython.core.display.Javascript object>"
      ]
     },
     "metadata": {},
     "output_type": "display_data"
    },
    {
     "data": {
      "application/javascript": [
       "download(\"download_74ce7f03-1117-4709-8704-6a5acbd4b5c0\", \"log_df.csv\", 248068)"
      ],
      "text/plain": [
       "<IPython.core.display.Javascript object>"
      ]
     },
     "metadata": {},
     "output_type": "display_data"
    },
    {
     "data": {
      "application/javascript": [
       "\n",
       "    async function download(id, filename, size) {\n",
       "      if (!google.colab.kernel.accessAllowed) {\n",
       "        return;\n",
       "      }\n",
       "      const div = document.createElement('div');\n",
       "      const label = document.createElement('label');\n",
       "      label.textContent = `Downloading \"${filename}\": `;\n",
       "      div.appendChild(label);\n",
       "      const progress = document.createElement('progress');\n",
       "      progress.max = size;\n",
       "      div.appendChild(progress);\n",
       "      document.body.appendChild(div);\n",
       "\n",
       "      const buffers = [];\n",
       "      let downloaded = 0;\n",
       "\n",
       "      const channel = await google.colab.kernel.comms.open(id);\n",
       "      // Send a message to notify the kernel that we're ready.\n",
       "      channel.send({})\n",
       "\n",
       "      for await (const message of channel.messages) {\n",
       "        // Send a message to notify the kernel that we're ready.\n",
       "        channel.send({})\n",
       "        if (message.buffers) {\n",
       "          for (const buffer of message.buffers) {\n",
       "            buffers.push(buffer);\n",
       "            downloaded += buffer.byteLength;\n",
       "            progress.value = downloaded;\n",
       "          }\n",
       "        }\n",
       "      }\n",
       "      const blob = new Blob(buffers, {type: 'application/binary'});\n",
       "      const a = document.createElement('a');\n",
       "      a.href = window.URL.createObjectURL(blob);\n",
       "      a.download = filename;\n",
       "      div.appendChild(a);\n",
       "      a.click();\n",
       "      div.remove();\n",
       "    }\n",
       "  "
      ],
      "text/plain": [
       "<IPython.core.display.Javascript object>"
      ]
     },
     "metadata": {},
     "output_type": "display_data"
    },
    {
     "data": {
      "application/javascript": [
       "download(\"download_24d7772d-e069-4a75-a828-345e9b889549\", \"merged_df.csv\", 85978)"
      ],
      "text/plain": [
       "<IPython.core.display.Javascript object>"
      ]
     },
     "metadata": {},
     "output_type": "display_data"
    }
   ],
   "source": [
    "import pandas as pd\n",
    "import numpy as np\n",
    "import seaborn as sns\n",
    "from sklearn.model_selection import train_test_split\n",
    "from sklearn.linear_model import LinearRegression\n",
    "from sklearn.metrics import mean_squared_error, r2_score\n",
    "from sklearn.ensemble import RandomForestClassifier\n",
    "from sklearn.preprocessing import LabelEncoder\n",
    "from google.colab import files\n",
    "\n",
    "# get the paths of original datasets\n",
    "data_path = 'data.csv'\n",
    "log_path = 'log.csv'\n",
    "\n",
    "# load data\n",
    "data_df = pd.read_csv(data_path)\n",
    "log_df = pd.read_csv(log_path)\n",
    "\n",
    "columns_with_missing_values = ['Week 3 quiz', 'Week 4 quiz', 'Week 5 quiz', 'Week 6 quiz',\n",
    "       'Week 7 quiz', 'Week 8 quiz', 'Week 9 quiz', 'Week 10 quiz',\n",
    "       'Week 11 quiz', 'Week 12 quiz', 'Week 13 quiz', 'Week 14 quiz',\n",
    "       'Week 15 quiz', 'Week 16 quiz', 'Week 3 homework', 'Week 4 homework', 'Week 5 homework',\n",
    "       'Week 7 homework', 'Week 8 homework', 'Week 9 homework',\n",
    "       'Week 10 homework', 'Week 11 homework', 'Week 13 homework',\n",
    "       'Week 14 homework', 'Week 15 homework']\n",
    "columns_not_missing_values = ['Week 1 quiz', 'Week 2 quiz',\n",
    "       'Week 3 quiz', 'Week 4 quiz', 'Week 5 quiz', 'Week 6 quiz',\n",
    "       'Week 7 quiz', 'Week 8 quiz', 'Week 9 quiz', 'Week 10 quiz',\n",
    "       'Week 11 quiz', 'Week 12 quiz', 'Week 13 quiz', 'Week 14 quiz',\n",
    "       'Week 15 quiz', 'Week 16 quiz', 'Week 1 homework', 'Week 2 homework',\n",
    "       'Week 3 homework', 'Week 4 homework', 'Week 5 homework',\n",
    "       'Week 7 homework', 'Week 8 homework', 'Week 9 homework',\n",
    "       'Week 10 homework', 'Week 11 homework', 'Week 13 homework',\n",
    "       'Week 14 homework', 'Week 15 homework']\n",
    "\n",
    "columns_name_student = \"Student\"\n",
    "columns_name_score = \"Score\"\n",
    "columns_name_grade = \"Grade\"\n",
    "\n",
    "columns_name_activity = \"Activity\"\n",
    "columns_name_day = \"Day\"\n",
    "columns_name_time = \"Time\"\n",
    "add_column_activity_weeknumber = \"Activity_Num\"\n",
    "add_column_activity_score = \"Activity Score\"\n",
    "\n",
    "\n",
    "# in data_df, subsititute - with NaN in column score\n",
    "data_df[columns_name_score] = data_df[columns_name_score].replace('-', np.nan)\n",
    "data_df[columns_name_score] = pd.to_numeric(data_df[columns_name_score], errors='coerce')\n",
    "\n",
    "# in data_df, delete the data that does not participate in any activity or got F due to other activtiy\n",
    "# in data_df, delete the data that got A due to pre-exam\n",
    "data_df = data_df.dropna(subset=[columns_name_score])\n",
    "data_df = data_df.drop(data_df[(data_df[columns_name_score] > 50) & (data_df[columns_name_grade] == 'F')].index)\n",
    "\n",
    "conditions = (data_df[columns_with_missing_values].eq(0).all(axis=1)) & (data_df[columns_name_grade] == 'A')\n",
    "data_df = data_df[~conditions]\n",
    "\n",
    "# in log_df, delete the data after ddl\n",
    "log_df[columns_name_time] = pd.to_datetime(log_df[columns_name_time])\n",
    "log_df[add_column_activity_weeknumber] = log_df[columns_name_activity].str.extract(r\"(\\d+)\")\n",
    "log_df[add_column_activity_weeknumber] = log_df[add_column_activity_weeknumber].astype(int)\n",
    "\n",
    "week1 = (log_df[add_column_activity_weeknumber] == 1)\n",
    "week2_16 = (log_df[add_column_activity_weeknumber] > 1) & (log_df[add_column_activity_weeknumber] <= 16)\n",
    "\n",
    "time_start_for_week2_16 = (log_df[columns_name_time].dt.time < pd.to_datetime('18:00:00').time())\n",
    "time_end_for_week2_16 = (log_df[columns_name_time].dt.time > pd.to_datetime('8:00:00').time())\n",
    "\n",
    "invalid_for_week1 = (log_df[columns_name_day] < 1) | (log_df[columns_name_day] > 7)\n",
    "\n",
    "invalid_start_for_week2_16 = (log_df[columns_name_day] < (7 * (log_df[add_column_activity_weeknumber] -1) - 3)) | ((log_df[columns_name_day] == (7 * (log_df[add_column_activity_weeknumber] -1) - 3)) & time_start_for_week2_16)\n",
    "invalid_end_for_week2_16 = (log_df[columns_name_day] > (7 * (log_df[add_column_activity_weeknumber] -1) + 4)) | ((log_df[columns_name_day] == (7 * (log_df[add_column_activity_weeknumber] -1) + 4)) & time_end_for_week2_16)\n",
    "\n",
    "condition1 = week1 & invalid_for_week1\n",
    "condition2 = week2_16 & (invalid_start_for_week2_16 | invalid_end_for_week2_16)\n",
    "\n",
    "log_df = log_df.drop(log_df[condition1].index)\n",
    "log_df = log_df.drop(log_df[condition2].index)\n",
    "\n",
    "log_df = log_df.drop(add_column_activity_weeknumber, axis=1)\n",
    "log_df = log_df.drop(columns_name_day, axis=1)\n",
    "log_df = log_df.drop(columns_name_time, axis=1)\n",
    "\n",
    "# in log_df, detele all the data without maximum score\n",
    "max_score_df = log_df.groupby([columns_name_student, columns_name_activity])[columns_name_score].max().reset_index()\n",
    "log_df = log_df.merge(max_score_df, on=[columns_name_student, columns_name_activity, columns_name_score], how='inner')\n",
    "log_df.drop_duplicates(subset=[columns_name_student, columns_name_activity], keep='first', inplace=True)\n",
    "\n",
    "# merge data_df and log_df based on Student and Activity\n",
    "pivoted_log_df = log_df.pivot(index='Student', columns='Activity', values='Score')\n",
    "pivoted_log_df.columns = [f'{col} maxscore' for col in pivoted_log_df.columns]\n",
    "merged_df = data_df.merge(pivoted_log_df, left_on='Student', right_index=True, how='left')\n",
    "\n",
    "\n",
    "data_df.to_csv('/content/data_df.csv', index=False)\n",
    "files.download('/content/data_df.csv')\n",
    "\n",
    "log_df.to_csv('/content/log_df.csv', index=False)\n",
    "files.download('/content/log_df.csv')\n",
    "\n",
    "merged_df.to_csv('/content/merged_df.csv', index=False)\n",
    "files.download('/content/merged_df.csv')\n",
    "\n",
    "from sklearn.model_selection import train_test_split\n",
    "\n",
    "# # define features：the number of attempts and maximum score of each exercise\n",
    "# features = ['Week 1 quiz', 'Week 2 quiz', 'Week 3 quiz', 'Week 4 quiz', 'Week 5 quiz', 'Week 6 quiz',\n",
    "#             'Week 7 quiz', 'Week 8 quiz', 'Week 9 quiz', 'Week 10 quiz', 'Week 11 quiz', 'Week 12 quiz',\n",
    "#             'Week 13 quiz', 'Week 14 quiz', 'Week 15 quiz', 'Week 16 quiz', 'Week 1 homework',\n",
    "#             'Week 2 homework', 'Week 3 homework', 'Week 4 homework', 'Week 5 homework', 'Week 7 homework',\n",
    "#             'Week 8 homework', 'Week 9 homework', 'Week 10 homework', 'Week 11 homework', 'Week 13 homework',\n",
    "#             'Week 14 homework', 'Week 15 homework','Score']\n",
    "\n",
    "# # define target：to predict the final course score\n",
    "# target = 'Score'\n",
    "\n",
    "# # dataset regularization\n",
    "# # split the data： 80%/20%\n",
    "# merged_df[features] = merged_df[features].fillna(value=0).replace('-', 0).astype(int)\n",
    "# merged_df[columns_name_score] = merged_df[columns_name_score].fillna(value=0).replace('-', 0).astype(int)\n",
    "\n",
    "# train_df, test_df, train_labels, test_labels = train_test_split(merged_df[features],\n",
    "#                                                                 merged_df[target],\n",
    "#                                                                 test_size=0.2,\n",
    "#                                                                 random_state=42)\n"
   ]
  },
  {
   "cell_type": "code",
   "execution_count": 11,
   "metadata": {
    "id": "pCzMokjqOr5l"
   },
   "outputs": [],
   "source": [
    "# Define a function to categorize students based on quiz attempts and scores\n",
    "def categorize_student(merged_df):\n",
    "    if merged_df['num_quiz'] <= 40 and merged_df['num_homework'] <= 15 and merged_df['Score'] > 80:\n",
    "        return 'talented'\n",
    "    elif merged_df['num_quiz']>40 and merged_df['num_homework'] > 15 and merged_df['Score'] > 80:\n",
    "        return 'hardworking'\n",
    "    elif 60 <= merged_df['Score'] <= 80:\n",
    "        return 'average'\n",
    "    else:\n",
    "        return 'unmotivated'\n",
    "merged_df['student_type'] = merged_df.apply(categorize_student, axis=1)\n",
    "\n",
    "# Map the categories to numerical labels\n",
    "label_mapping = {'talented': 0, 'hardworking': 1, 'average': 2, 'unmotivated': 3}\n",
    "merged_df['student_type'] = merged_df['student_type'].map(label_mapping)\n",
    "\n",
    "merged_df['num_quiz']=merged_df['Week 1 quiz']+merged_df['Week 2 quiz']+merged_df['Week 3 quiz']+merged_df['Week 4 quiz']+merged_df['Week 5 quiz']+merged_df['Week 6 quiz']+merged_df['Week 7 quiz']+merged_df['Week 8 quiz']+merged_df['Week 9 quiz']+merged_df['Week 10 quiz']+merged_df['Week 11 quiz']+merged_df['Week 12 quiz']+merged_df['Week 13 quiz']+merged_df['Week 14 quiz']+merged_df['Week 15 quiz']+merged_df['Week 16 quiz']\n",
    "merged_df['num_homework']=merged_df['Week 1 homework']+merged_df['Week 2 homework']+merged_df['Week 3 homework']+merged_df['Week 4 homework']+merged_df['Week 5 homework']+merged_df['Week 7 homework']+merged_df['Week 8 homework']+merged_df['Week 9 homework']+merged_df['Week 10 homework']+merged_df['Week 11 homework']+merged_df['Week 13 homework']+merged_df['Week 14 homework']+merged_df['Week 15 homework']\n",
    "features=['num_quiz', 'num_homework', 'Score']\n",
    "target = 'student_type'\n",
    "\n",
    "X = merged_df[features].fillna(value=0).replace('-', 0).astype(int)\n",
    "y = merged_df[target]\n",
    "\n",
    "# Split the data into training and testing sets\n",
    "X_train, X_test, y_train, y_test = train_test_split(X, y, test_size=0.2, random_state=42)\n",
    "\n"
   ]
  },
  {
   "cell_type": "code",
   "execution_count": 19,
   "metadata": {
    "colab": {
     "base_uri": "https://localhost:8080/"
    },
    "id": "E97WRlYnCAYO",
    "outputId": "b4468929-779f-40f3-b7c9-ce54d75c7e6b"
   },
   "outputs": [
    {
     "name": "stdout",
     "output_type": "stream",
     "text": [
      "DecisionTreeClassifier:\n",
      "0.9880952380952381\n",
      "MultinomialNB:\n",
      "0.6190476190476191\n",
      "KNeighborsClassifier:\n",
      "0.9166666666666666\n"
     ]
    }
   ],
   "source": [
    "from sklearn.tree import DecisionTreeClassifier\n",
    "from sklearn.neighbors import KNeighborsClassifier\n",
    "from sklearn.naive_bayes import MultinomialNB\n",
    "from sklearn import preprocessing\n",
    "from sklearn import utils\n",
    "from sklearn.metrics import accuracy_score, classification_report\n",
    "\n",
    "#DecisionTreeClassifier\n",
    "clf = DecisionTreeClassifier()\n",
    "clf.fit(X_train, y_train)\n",
    "y_pred = clf.predict(X_test)\n",
    "accuracy = accuracy_score(y_test, y_pred)\n",
    "print(\"DecisionTreeClassifier:\")\n",
    "print(accuracy)\n",
    "\n",
    "#MultinomialNB\n",
    "clf1=MultinomialNB()\n",
    "clf1.fit(X_train, y_train)\n",
    "y_pred1 = clf1.predict(X_test)\n",
    "accuracy1 = accuracy_score(y_test, y_pred1)\n",
    "print(\"MultinomialNB:\")\n",
    "print(accuracy1)\n",
    "\n",
    "#KNeighborsClassifier\n",
    "clf2=KNeighborsClassifier()\n",
    "clf2.fit(X_train, y_train)\n",
    "y_pred2 = clf2.predict(X_test)\n",
    "accuracy2 = accuracy_score(y_test, y_pred2)\n",
    "print(\"KNeighborsClassifier:\")\n",
    "print(accuracy2)"
   ]
  },
  {
   "cell_type": "code",
   "execution_count": 20,
   "metadata": {
    "colab": {
     "base_uri": "https://localhost:8080/",
     "height": 982
    },
    "id": "TZggWN6A6ed9",
    "outputId": "46767ece-6433-48a8-dbad-ec37bcb01a7c"
   },
   "outputs": [
    {
     "data": {
      "image/png": "[encoded data removed]",
      "text/plain": [
       "<Figure size 1500x500 with 6 Axes>"
      ]
     },
     "metadata": {},
     "output_type": "display_data"
    },
    {
     "name": "stdout",
     "output_type": "stream",
     "text": [
      "Decision Tree Classification Report:\n",
      "              precision    recall  f1-score   support\n",
      "\n",
      "           0       0.50      1.00      0.67         1\n",
      "           1       1.00      1.00      1.00        12\n",
      "           2       1.00      1.00      1.00        16\n",
      "           3       1.00      0.98      0.99        55\n",
      "\n",
      "    accuracy                           0.99        84\n",
      "   macro avg       0.88      1.00      0.91        84\n",
      "weighted avg       0.99      0.99      0.99        84\n",
      "\n",
      "\n",
      "Multinomial Naive Bayes Classification Report:\n",
      "              precision    recall  f1-score   support\n",
      "\n",
      "           0       0.17      1.00      0.29         1\n",
      "           1       0.31      0.33      0.32        12\n",
      "           2       0.27      0.25      0.26        16\n",
      "           3       0.86      0.78      0.82        55\n",
      "\n",
      "    accuracy                           0.62        84\n",
      "   macro avg       0.40      0.59      0.42        84\n",
      "weighted avg       0.66      0.62      0.63        84\n",
      "\n",
      "\n",
      "K-Nearest Neighbors Classification Report:\n",
      "              precision    recall  f1-score   support\n",
      "\n",
      "           0       0.50      1.00      0.67         1\n",
      "           1       0.92      1.00      0.96        12\n",
      "           2       0.78      0.88      0.82        16\n",
      "           3       0.98      0.91      0.94        55\n",
      "\n",
      "    accuracy                           0.92        84\n",
      "   macro avg       0.80      0.95      0.85        84\n",
      "weighted avg       0.93      0.92      0.92        84\n",
      "\n"
     ]
    }
   ],
   "source": [
    "import seaborn as sns\n",
    "import matplotlib.pyplot as plt\n",
    "from sklearn.metrics import confusion_matrix, classification_report\n",
    "\n",
    "# Decision Tree Classifier\n",
    "conf_matrix_dt = confusion_matrix(y_test, y_pred)\n",
    "class_report_dt = classification_report(y_test, y_pred)\n",
    "\n",
    "# Multinomial Naive Bayes Classifier\n",
    "conf_matrix_nb = confusion_matrix(y_test, y_pred1)\n",
    "class_report_nb = classification_report(y_test, y_pred1)\n",
    "\n",
    "# K-Nearest Neighbors Classifier\n",
    "conf_matrix_knn = confusion_matrix(y_test, y_pred2)\n",
    "class_report_knn = classification_report(y_test, y_pred2)\n",
    "\n",
    "# Plot Confusion Matrix\n",
    "plt.figure(figsize=(15, 5))\n",
    "\n",
    "plt.subplot(1, 3, 1)\n",
    "sns.heatmap(conf_matrix_dt, annot=True, fmt=\"d\", cmap=\"Blues\", xticklabels=label_mapping.keys(), yticklabels=label_mapping.keys())\n",
    "plt.title(\"Decision Tree Confusion Matrix\")\n",
    "\n",
    "plt.subplot(1, 3, 2)\n",
    "sns.heatmap(conf_matrix_nb, annot=True, fmt=\"d\", cmap=\"Blues\", xticklabels=label_mapping.keys(), yticklabels=label_mapping.keys())\n",
    "plt.title(\"Multinomial Naive Bayes Confusion Matrix\")\n",
    "\n",
    "plt.subplot(1, 3, 3)\n",
    "sns.heatmap(conf_matrix_knn, annot=True, fmt=\"d\", cmap=\"Blues\", xticklabels=label_mapping.keys(), yticklabels=label_mapping.keys())\n",
    "plt.title(\"K-Nearest Neighbors Confusion Matrix\")\n",
    "\n",
    "plt.show()\n",
    "\n",
    "# Print Classification Report\n",
    "print(\"Decision Tree Classification Report:\")\n",
    "print(class_report_dt)\n",
    "\n",
    "print(\"\\nMultinomial Naive Bayes Classification Report:\")\n",
    "print(class_report_nb)\n",
    "\n",
    "print(\"\\nK-Nearest Neighbors Classification Report:\")\n",
    "print(class_report_knn)"
   ]
  }
 ],
 "metadata": {
  "colab": {
   "provenance": []
  },
  "kernelspec": {
   "display_name": "Python 3 (ipykernel)",
   "language": "python",
   "name": "python3"
  },
  "language_info": {
   "codemirror_mode": {
    "name": "ipython",
    "version": 3
   },
   "file_extension": ".py",
   "mimetype": "text/x-python",
   "name": "python",
   "nbconvert_exporter": "python",
   "pygments_lexer": "ipython3",
   "version": "3.11.4"
  }
 },
 "nbformat": 4,
 "nbformat_minor": 1
}
