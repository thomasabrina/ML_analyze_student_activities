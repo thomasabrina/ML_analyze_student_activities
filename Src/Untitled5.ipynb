{
  "nbformat": 4,
  "nbformat_minor": 0,
  "metadata": {
    "colab": {
      "provenance": []
    },
    "kernelspec": {
      "name": "python3",
      "display_name": "Python 3"
    },
    "language_info": {
      "name": "python"
    }
  },
  "cells": [
    {
      "cell_type": "code",
      "execution_count": 6,
      "metadata": {
        "id": "tdyEoZm_MdtE"
      },
      "outputs": [],
      "source": [
        "import pandas as pd\n",
        "import numpy as np\n",
        "from datetime import datetime, timedelta\n",
        "\n",
        "\n",
        "data2022 = pd.read_csv('data.csv')\n",
        "data2021 = pd.read_csv('data-2021.csv')\n",
        "log2022 = pd.read_csv('log.csv')\n",
        "log2021 = pd.read_csv('log-2021.csv')"
      ]
    },
    {
      "cell_type": "code",
      "source": [
        "def clean_data(data_df,log_df):\n",
        "\n",
        "# Drop rows with missing final scores\n",
        "  data_df = data_df[data_df['Score'] != '-']\n",
        "\n",
        "# Convert numeric columns to appropriate data types\n",
        "  numeric_columns = data_df.columns[data_df.columns.str.startswith('Week')]\n",
        "  data_df[numeric_columns] = data_df[numeric_columns].apply(pd.to_numeric, errors='coerce')\n",
        "\n",
        "# Filter out irrelevant entries\n",
        "  log_df = log_df[log_df['Score'] != '-']\n",
        "\n",
        "# Merge data frames\n",
        "  merged_df = pd.merge(data_df,log_df , on='Student')\n",
        "\n",
        "# Filter out students with final grade A who did not submit homeworks from week 3 onwards\n",
        "  merged_df['Zero_count'] = (merged_df.loc[:, 'Week 1 quiz':'Week 15 homework'] == 0).astype(int).sum(axis=1)\n",
        "  passed_pre_exam = merged_df[(merged_df['Grade'] == 'A') & (merged_df['Zero_count'] >= 3)]\n",
        "  student_list = passed_pre_exam['Student'].to_list()\n",
        "  filtered_df = merged_df[(merged_df['Student'].isin(student_list)) == False]\n",
        "  filtered_df.drop('Zero_count', axis='columns', inplace=True)\n",
        "  filtered_df.reset_index(drop=True)\n",
        "# Convert time column to datetime\n",
        "  filtered_df['Time'] = pd.to_datetime(filtered_df['Time'])\n",
        "\n",
        "# Calculate the deadline for each activity\n",
        "  filtered_df['Deadline'] = filtered_df.apply(lambda row: row['Time'] + timedelta(days=4) if row['Day'] != 1 else row['Time'] + timedelta(days=6, hours=14), axis=1)\n",
        "\n",
        "# Filter out attempts made after the deadline\n",
        "  filtered_df = filtered_df[filtered_df['Time'] <= filtered_df['Deadline']]\n",
        "  filtered_df.drop_duplicates(keep=\"first\",inplace=True)\n",
        "  filtered_df.reset_index(drop=True)\n",
        "  return filtered_df\n",
        "data_2022=clean_data(data2022,log2022)\n",
        "data_2021=clean_data(data2021,log2021)"
      ],
      "metadata": {
        "id": "_O_Q1DpB-HsF"
      },
      "execution_count": 24,
      "outputs": []
    }
  ]
}