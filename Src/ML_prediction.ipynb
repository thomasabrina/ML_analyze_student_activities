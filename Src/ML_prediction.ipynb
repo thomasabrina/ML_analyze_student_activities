{
  "nbformat": 4,
  "nbformat_minor": 0,
  "metadata": {
    "colab": {
      "provenance": [],
      "gpuType": "T4"
    },
    "kernelspec": {
      "name": "python3",
      "display_name": "Python 3"
    },
    "language_info": {
      "name": "python"
    },
    "accelerator": "GPU"
  },
  "cells": [
    {
      "cell_type": "code",
      "source": [
        "import pandas as pd\n",
        "import numpy as np\n",
        "import seaborn as sns\n",
        "from sklearn.model_selection import train_test_split\n",
        "from sklearn.linear_model import LinearRegression\n",
        "from sklearn.metrics import mean_squared_error, r2_score\n",
        "from sklearn.ensemble import RandomForestClassifier\n",
        "from sklearn.preprocessing import LabelEncoder\n",
        "from google.colab import files"
      ],
      "metadata": {
        "id": "ePi8_QKZ6zJm"
      },
      "execution_count": 1,
      "outputs": []
    },
    {
      "cell_type": "code",
      "source": [
        "uploaded = files.upload()"
      ],
      "metadata": {
        "id": "rRfO9s5u67_O",
        "colab": {
          "base_uri": "https://localhost:8080/",
          "height": 76
        },
        "outputId": "964781d4-c589-4915-d7eb-a2045a16ae2b"
      },
      "execution_count": 2,
      "outputs": [
        {
          "output_type": "display_data",
          "data": {
            "text/plain": [
              "<IPython.core.display.HTML object>"
            ],
            "text/html": [
              "\n",
              "     <input type=\"file\" id=\"files-9cd86864-780f-436a-bb13-a85eb492d03f\" name=\"files[]\" multiple disabled\n",
              "        style=\"border:none\" />\n",
              "     <output id=\"result-9cd86864-780f-436a-bb13-a85eb492d03f\">\n",
              "      Upload widget is only available when the cell has been executed in the\n",
              "      current browser session. Please rerun this cell to enable.\n",
              "      </output>\n",
              "      <script>// Copyright 2017 Google LLC\n",
              "//\n",
              "// Licensed under the Apache License, Version 2.0 (the \"License\");\n",
              "// you may not use this file except in compliance with the License.\n",
              "// You may obtain a copy of the License at\n",
              "//\n",
              "//      http://www.apache.org/licenses/LICENSE-2.0\n",
              "//\n",
              "// Unless required by applicable law or agreed to in writing, software\n",
              "// distributed under the License is distributed on an \"AS IS\" BASIS,\n",
              "// WITHOUT WARRANTIES OR CONDITIONS OF ANY KIND, either express or implied.\n",
              "// See the License for the specific language governing permissions and\n",
              "// limitations under the License.\n",
              "\n",
              "/**\n",
              " * @fileoverview Helpers for google.colab Python module.\n",
              " */\n",
              "(function(scope) {\n",
              "function span(text, styleAttributes = {}) {\n",
              "  const element = document.createElement('span');\n",
              "  element.textContent = text;\n",
              "  for (const key of Object.keys(styleAttributes)) {\n",
              "    element.style[key] = styleAttributes[key];\n",
              "  }\n",
              "  return element;\n",
              "}\n",
              "\n",
              "// Max number of bytes which will be uploaded at a time.\n",
              "const MAX_PAYLOAD_SIZE = 100 * 1024;\n",
              "\n",
              "function _uploadFiles(inputId, outputId) {\n",
              "  const steps = uploadFilesStep(inputId, outputId);\n",
              "  const outputElement = document.getElementById(outputId);\n",
              "  // Cache steps on the outputElement to make it available for the next call\n",
              "  // to uploadFilesContinue from Python.\n",
              "  outputElement.steps = steps;\n",
              "\n",
              "  return _uploadFilesContinue(outputId);\n",
              "}\n",
              "\n",
              "// This is roughly an async generator (not supported in the browser yet),\n",
              "// where there are multiple asynchronous steps and the Python side is going\n",
              "// to poll for completion of each step.\n",
              "// This uses a Promise to block the python side on completion of each step,\n",
              "// then passes the result of the previous step as the input to the next step.\n",
              "function _uploadFilesContinue(outputId) {\n",
              "  const outputElement = document.getElementById(outputId);\n",
              "  const steps = outputElement.steps;\n",
              "\n",
              "  const next = steps.next(outputElement.lastPromiseValue);\n",
              "  return Promise.resolve(next.value.promise).then((value) => {\n",
              "    // Cache the last promise value to make it available to the next\n",
              "    // step of the generator.\n",
              "    outputElement.lastPromiseValue = value;\n",
              "    return next.value.response;\n",
              "  });\n",
              "}\n",
              "\n",
              "/**\n",
              " * Generator function which is called between each async step of the upload\n",
              " * process.\n",
              " * @param {string} inputId Element ID of the input file picker element.\n",
              " * @param {string} outputId Element ID of the output display.\n",
              " * @return {!Iterable<!Object>} Iterable of next steps.\n",
              " */\n",
              "function* uploadFilesStep(inputId, outputId) {\n",
              "  const inputElement = document.getElementById(inputId);\n",
              "  inputElement.disabled = false;\n",
              "\n",
              "  const outputElement = document.getElementById(outputId);\n",
              "  outputElement.innerHTML = '';\n",
              "\n",
              "  const pickedPromise = new Promise((resolve) => {\n",
              "    inputElement.addEventListener('change', (e) => {\n",
              "      resolve(e.target.files);\n",
              "    });\n",
              "  });\n",
              "\n",
              "  const cancel = document.createElement('button');\n",
              "  inputElement.parentElement.appendChild(cancel);\n",
              "  cancel.textContent = 'Cancel upload';\n",
              "  const cancelPromise = new Promise((resolve) => {\n",
              "    cancel.onclick = () => {\n",
              "      resolve(null);\n",
              "    };\n",
              "  });\n",
              "\n",
              "  // Wait for the user to pick the files.\n",
              "  const files = yield {\n",
              "    promise: Promise.race([pickedPromise, cancelPromise]),\n",
              "    response: {\n",
              "      action: 'starting',\n",
              "    }\n",
              "  };\n",
              "\n",
              "  cancel.remove();\n",
              "\n",
              "  // Disable the input element since further picks are not allowed.\n",
              "  inputElement.disabled = true;\n",
              "\n",
              "  if (!files) {\n",
              "    return {\n",
              "      response: {\n",
              "        action: 'complete',\n",
              "      }\n",
              "    };\n",
              "  }\n",
              "\n",
              "  for (const file of files) {\n",
              "    const li = document.createElement('li');\n",
              "    li.append(span(file.name, {fontWeight: 'bold'}));\n",
              "    li.append(span(\n",
              "        `(${file.type || 'n/a'}) - ${file.size} bytes, ` +\n",
              "        `last modified: ${\n",
              "            file.lastModifiedDate ? file.lastModifiedDate.toLocaleDateString() :\n",
              "                                    'n/a'} - `));\n",
              "    const percent = span('0% done');\n",
              "    li.appendChild(percent);\n",
              "\n",
              "    outputElement.appendChild(li);\n",
              "\n",
              "    const fileDataPromise = new Promise((resolve) => {\n",
              "      const reader = new FileReader();\n",
              "      reader.onload = (e) => {\n",
              "        resolve(e.target.result);\n",
              "      };\n",
              "      reader.readAsArrayBuffer(file);\n",
              "    });\n",
              "    // Wait for the data to be ready.\n",
              "    let fileData = yield {\n",
              "      promise: fileDataPromise,\n",
              "      response: {\n",
              "        action: 'continue',\n",
              "      }\n",
              "    };\n",
              "\n",
              "    // Use a chunked sending to avoid message size limits. See b/62115660.\n",
              "    let position = 0;\n",
              "    do {\n",
              "      const length = Math.min(fileData.byteLength - position, MAX_PAYLOAD_SIZE);\n",
              "      const chunk = new Uint8Array(fileData, position, length);\n",
              "      position += length;\n",
              "\n",
              "      const base64 = btoa(String.fromCharCode.apply(null, chunk));\n",
              "      yield {\n",
              "        response: {\n",
              "          action: 'append',\n",
              "          file: file.name,\n",
              "          data: base64,\n",
              "        },\n",
              "      };\n",
              "\n",
              "      let percentDone = fileData.byteLength === 0 ?\n",
              "          100 :\n",
              "          Math.round((position / fileData.byteLength) * 100);\n",
              "      percent.textContent = `${percentDone}% done`;\n",
              "\n",
              "    } while (position < fileData.byteLength);\n",
              "  }\n",
              "\n",
              "  // All done.\n",
              "  yield {\n",
              "    response: {\n",
              "      action: 'complete',\n",
              "    }\n",
              "  };\n",
              "}\n",
              "\n",
              "scope.google = scope.google || {};\n",
              "scope.google.colab = scope.google.colab || {};\n",
              "scope.google.colab._files = {\n",
              "  _uploadFiles,\n",
              "  _uploadFilesContinue,\n",
              "};\n",
              "})(self);\n",
              "</script> "
            ]
          },
          "metadata": {}
        },
        {
          "output_type": "stream",
          "name": "stdout",
          "text": [
            "Saving merged_data.csv to merged_data.csv\n"
          ]
        }
      ]
    },
    {
      "cell_type": "code",
      "source": [
        "# get the paths of original datasets\n",
        "data_path = '/content/merged_data.csv'\n",
        "log_path = '/content/merged_log_data.csv'\n",
        "\n",
        "# load data\n",
        "data_df = pd.read_csv(data_path)\n",
        "log_df = pd.read_csv(log_path)\n",
        "\n",
        "columns_with_missing_values = ['Week 3 quiz', 'Week 4 quiz', 'Week 5 quiz', 'Week 6 quiz',\n",
        "       'Week 7 quiz', 'Week 8 quiz', 'Week 9 quiz', 'Week 10 quiz',\n",
        "       'Week 11 quiz', 'Week 12 quiz', 'Week 13 quiz', 'Week 14 quiz',\n",
        "       'Week 15 quiz', 'Week 16 quiz', 'Week 3 homework', 'Week 4 homework', 'Week 5 homework',\n",
        "       'Week 7 homework', 'Week 8 homework', 'Week 9 homework',\n",
        "       'Week 10 homework', 'Week 11 homework', 'Week 13 homework',\n",
        "       'Week 14 homework', 'Week 15 homework']\n",
        "columns_not_missing_values = ['Week 1 quiz', 'Week 2 quiz',\n",
        "       'Week 3 quiz', 'Week 4 quiz', 'Week 5 quiz', 'Week 6 quiz',\n",
        "       'Week 7 quiz', 'Week 8 quiz', 'Week 9 quiz', 'Week 10 quiz',\n",
        "       'Week 11 quiz', 'Week 12 quiz', 'Week 13 quiz', 'Week 14 quiz',\n",
        "       'Week 15 quiz', 'Week 16 quiz', 'Week 1 homework', 'Week 2 homework',\n",
        "       'Week 3 homework', 'Week 4 homework', 'Week 5 homework',\n",
        "       'Week 7 homework', 'Week 8 homework', 'Week 9 homework',\n",
        "       'Week 10 homework', 'Week 11 homework', 'Week 13 homework',\n",
        "       'Week 14 homework', 'Week 15 homework']\n",
        "\n",
        "columns_name_student = \"Student\"\n",
        "columns_name_score = \"Score\"\n",
        "columns_name_grade = \"Grade\"\n",
        "\n",
        "columns_name_activity = \"Activity\"\n",
        "columns_name_day = \"Day\"\n",
        "columns_name_time = \"Time\"\n",
        "add_column_activity_weeknumber = \"Activity_Num\"\n",
        "add_column_activity_score = \"Activity Score\""
      ],
      "metadata": {
        "id": "3MLIFLyFA_Q2"
      },
      "execution_count": 3,
      "outputs": []
    },
    {
      "cell_type": "code",
      "source": [
        "# in data_df, subsititute - with NaN in column score\n",
        "data_df[columns_name_score] = data_df[columns_name_score].replace('-', np.nan)\n",
        "data_df[columns_name_score] = pd.to_numeric(data_df[columns_name_score], errors='coerce')\n",
        "\n",
        "# in data_df, delete the data that does not participate in any activity or got F due to other activtiy\n",
        "# in data_df, delete the data that got A due to pre-exam\n",
        "data_df = data_df.dropna(subset=[columns_name_score])\n",
        "data_df = data_df.drop(data_df[(data_df[columns_name_score] > 50) & (data_df[columns_name_grade] == 'F')].index)\n",
        "\n",
        "conditions = (data_df[columns_with_missing_values].eq(0).all(axis=1)) & (data_df[columns_name_grade] == 'A')\n",
        "data_df = data_df[~conditions]\n",
        "\n",
        "# in log_df, delete the data after ddl\n",
        "log_df[columns_name_time] = pd.to_datetime(log_df[columns_name_time])\n",
        "log_df[add_column_activity_weeknumber] = log_df[columns_name_activity].str.extract(r\"(\\d+)\")\n",
        "log_df[add_column_activity_weeknumber] = log_df[add_column_activity_weeknumber].astype(int)\n",
        "\n",
        "week1 = (log_df[add_column_activity_weeknumber] == 1)\n",
        "week2_16 = (log_df[add_column_activity_weeknumber] > 1) & (log_df[add_column_activity_weeknumber] <= 16)\n",
        "\n",
        "time_start_for_week2_16 = (log_df[columns_name_time].dt.time < pd.to_datetime('18:00:00').time())\n",
        "time_end_for_week2_16 = (log_df[columns_name_time].dt.time > pd.to_datetime('8:00:00').time())\n",
        "\n",
        "invalid_for_week1 = (log_df[columns_name_day] < 1) | (log_df[columns_name_day] > 7)\n",
        "\n",
        "invalid_start_for_week2_16 = (log_df[columns_name_day] < (7 * (log_df[add_column_activity_weeknumber] -1) - 3)) | ((log_df[columns_name_day] == (7 * (log_df[add_column_activity_weeknumber] -1) - 3)) & time_start_for_week2_16)\n",
        "invalid_end_for_week2_16 = (log_df[columns_name_day] > (7 * (log_df[add_column_activity_weeknumber] -1) + 4)) | ((log_df[columns_name_day] == (7 * (log_df[add_column_activity_weeknumber] -1) + 4)) & time_end_for_week2_16)\n",
        "\n",
        "condition1 = week1 & invalid_for_week1\n",
        "condition2 = week2_16 & (invalid_start_for_week2_16 | invalid_end_for_week2_16)\n",
        "\n",
        "log_df = log_df.drop(log_df[condition1].index)\n",
        "log_df = log_df.drop(log_df[condition2].index)\n",
        "\n",
        "log_df = log_df.drop(add_column_activity_weeknumber, axis=1)\n",
        "log_df = log_df.drop(columns_name_day, axis=1)\n",
        "log_df = log_df.drop(columns_name_time, axis=1)\n",
        "\n",
        "# in log_df, detele all the data without maximum score\n",
        "max_score_df = log_df.groupby([columns_name_student, columns_name_activity])[columns_name_score].max().reset_index()\n",
        "log_df = log_df.merge(max_score_df, on=[columns_name_student, columns_name_activity, columns_name_score], how='inner')\n",
        "log_df.drop_duplicates(subset=[columns_name_student, columns_name_activity], keep='first', inplace=True)"
      ],
      "metadata": {
        "colab": {
          "base_uri": "https://localhost:8080/"
        },
        "id": "pkTderTzAwMt",
        "outputId": "b9ec21e7-4795-4bd2-f0f6-23aafd099c32"
      },
      "execution_count": 4,
      "outputs": [
        {
          "output_type": "stream",
          "name": "stderr",
          "text": [
            "<ipython-input-4-0d9c07742147>:33: UserWarning: Boolean Series key will be reindexed to match DataFrame index.\n",
            "  log_df = log_df.drop(log_df[condition2].index)\n"
          ]
        }
      ]
    },
    {
      "cell_type": "code",
      "source": [
        "# merge data_df and log_df based on Student and Activity\n",
        "pivoted_log_df = log_df.pivot(index='Student', columns='Activity', values='Score')\n",
        "pivoted_log_df.columns = [f'{col} maxscore' for col in pivoted_log_df.columns]\n",
        "merged_df = data_df.merge(pivoted_log_df, left_on='Student', right_index=True, how='left')"
      ],
      "metadata": {
        "id": "o5zDDGXnKoeb"
      },
      "execution_count": 5,
      "outputs": []
    },
    {
      "cell_type": "code",
      "source": [
        "data_df.to_csv('/content/data_df.csv', index=False)\n",
        "files.download('/content/data_df.csv')"
      ],
      "metadata": {
        "id": "8rBwjbw5D9pO",
        "colab": {
          "base_uri": "https://localhost:8080/",
          "height": 17
        },
        "outputId": "8f13e461-a1ff-4479-f6f5-81ce767193b2"
      },
      "execution_count": 6,
      "outputs": [
        {
          "output_type": "display_data",
          "data": {
            "text/plain": [
              "<IPython.core.display.Javascript object>"
            ],
            "application/javascript": [
              "\n",
              "    async function download(id, filename, size) {\n",
              "      if (!google.colab.kernel.accessAllowed) {\n",
              "        return;\n",
              "      }\n",
              "      const div = document.createElement('div');\n",
              "      const label = document.createElement('label');\n",
              "      label.textContent = `Downloading \"${filename}\": `;\n",
              "      div.appendChild(label);\n",
              "      const progress = document.createElement('progress');\n",
              "      progress.max = size;\n",
              "      div.appendChild(progress);\n",
              "      document.body.appendChild(div);\n",
              "\n",
              "      const buffers = [];\n",
              "      let downloaded = 0;\n",
              "\n",
              "      const channel = await google.colab.kernel.comms.open(id);\n",
              "      // Send a message to notify the kernel that we're ready.\n",
              "      channel.send({})\n",
              "\n",
              "      for await (const message of channel.messages) {\n",
              "        // Send a message to notify the kernel that we're ready.\n",
              "        channel.send({})\n",
              "        if (message.buffers) {\n",
              "          for (const buffer of message.buffers) {\n",
              "            buffers.push(buffer);\n",
              "            downloaded += buffer.byteLength;\n",
              "            progress.value = downloaded;\n",
              "          }\n",
              "        }\n",
              "      }\n",
              "      const blob = new Blob(buffers, {type: 'application/binary'});\n",
              "      const a = document.createElement('a');\n",
              "      a.href = window.URL.createObjectURL(blob);\n",
              "      a.download = filename;\n",
              "      div.appendChild(a);\n",
              "      a.click();\n",
              "      div.remove();\n",
              "    }\n",
              "  "
            ]
          },
          "metadata": {}
        },
        {
          "output_type": "display_data",
          "data": {
            "text/plain": [
              "<IPython.core.display.Javascript object>"
            ],
            "application/javascript": [
              "download(\"download_3e932d5a-a7be-44e4-b52a-33d832f9e94e\", \"data_df.csv\", 65160)"
            ]
          },
          "metadata": {}
        }
      ]
    },
    {
      "cell_type": "code",
      "source": [
        "log_df.to_csv('/content/log_df.csv', index=False)\n",
        "files.download('/content/log_df.csv')"
      ],
      "metadata": {
        "colab": {
          "base_uri": "https://localhost:8080/",
          "height": 17
        },
        "id": "AEkOg2ai6Qct",
        "outputId": "c38402d4-2b07-4670-cd20-379c4c24d854"
      },
      "execution_count": 7,
      "outputs": [
        {
          "output_type": "display_data",
          "data": {
            "text/plain": [
              "<IPython.core.display.Javascript object>"
            ],
            "application/javascript": [
              "\n",
              "    async function download(id, filename, size) {\n",
              "      if (!google.colab.kernel.accessAllowed) {\n",
              "        return;\n",
              "      }\n",
              "      const div = document.createElement('div');\n",
              "      const label = document.createElement('label');\n",
              "      label.textContent = `Downloading \"${filename}\": `;\n",
              "      div.appendChild(label);\n",
              "      const progress = document.createElement('progress');\n",
              "      progress.max = size;\n",
              "      div.appendChild(progress);\n",
              "      document.body.appendChild(div);\n",
              "\n",
              "      const buffers = [];\n",
              "      let downloaded = 0;\n",
              "\n",
              "      const channel = await google.colab.kernel.comms.open(id);\n",
              "      // Send a message to notify the kernel that we're ready.\n",
              "      channel.send({})\n",
              "\n",
              "      for await (const message of channel.messages) {\n",
              "        // Send a message to notify the kernel that we're ready.\n",
              "        channel.send({})\n",
              "        if (message.buffers) {\n",
              "          for (const buffer of message.buffers) {\n",
              "            buffers.push(buffer);\n",
              "            downloaded += buffer.byteLength;\n",
              "            progress.value = downloaded;\n",
              "          }\n",
              "        }\n",
              "      }\n",
              "      const blob = new Blob(buffers, {type: 'application/binary'});\n",
              "      const a = document.createElement('a');\n",
              "      a.href = window.URL.createObjectURL(blob);\n",
              "      a.download = filename;\n",
              "      div.appendChild(a);\n",
              "      a.click();\n",
              "      div.remove();\n",
              "    }\n",
              "  "
            ]
          },
          "metadata": {}
        },
        {
          "output_type": "display_data",
          "data": {
            "text/plain": [
              "<IPython.core.display.Javascript object>"
            ],
            "application/javascript": [
              "download(\"download_31750f65-4728-473f-af71-a8371b48c3f8\", \"log_df.csv\", 297180)"
            ]
          },
          "metadata": {}
        }
      ]
    },
    {
      "cell_type": "code",
      "source": [
        "merged_df.to_csv('/content/merged_df.csv', index=False)\n",
        "files.download('/content/merged_df.csv')"
      ],
      "metadata": {
        "id": "TqfpjctxAWdB",
        "colab": {
          "base_uri": "https://localhost:8080/",
          "height": 17
        },
        "outputId": "562fc4e2-9bb3-4020-db46-d01a1a6fb191"
      },
      "execution_count": 12,
      "outputs": [
        {
          "output_type": "display_data",
          "data": {
            "text/plain": [
              "<IPython.core.display.Javascript object>"
            ],
            "application/javascript": [
              "\n",
              "    async function download(id, filename, size) {\n",
              "      if (!google.colab.kernel.accessAllowed) {\n",
              "        return;\n",
              "      }\n",
              "      const div = document.createElement('div');\n",
              "      const label = document.createElement('label');\n",
              "      label.textContent = `Downloading \"${filename}\": `;\n",
              "      div.appendChild(label);\n",
              "      const progress = document.createElement('progress');\n",
              "      progress.max = size;\n",
              "      div.appendChild(progress);\n",
              "      document.body.appendChild(div);\n",
              "\n",
              "      const buffers = [];\n",
              "      let downloaded = 0;\n",
              "\n",
              "      const channel = await google.colab.kernel.comms.open(id);\n",
              "      // Send a message to notify the kernel that we're ready.\n",
              "      channel.send({})\n",
              "\n",
              "      for await (const message of channel.messages) {\n",
              "        // Send a message to notify the kernel that we're ready.\n",
              "        channel.send({})\n",
              "        if (message.buffers) {\n",
              "          for (const buffer of message.buffers) {\n",
              "            buffers.push(buffer);\n",
              "            downloaded += buffer.byteLength;\n",
              "            progress.value = downloaded;\n",
              "          }\n",
              "        }\n",
              "      }\n",
              "      const blob = new Blob(buffers, {type: 'application/binary'});\n",
              "      const a = document.createElement('a');\n",
              "      a.href = window.URL.createObjectURL(blob);\n",
              "      a.download = filename;\n",
              "      div.appendChild(a);\n",
              "      a.click();\n",
              "      div.remove();\n",
              "    }\n",
              "  "
            ]
          },
          "metadata": {}
        },
        {
          "output_type": "display_data",
          "data": {
            "text/plain": [
              "<IPython.core.display.Javascript object>"
            ],
            "application/javascript": [
              "download(\"download_2cbaaa13-ba2f-4224-a073-e7c9702a31a2\", \"merged_df.csv\", 209378)"
            ]
          },
          "metadata": {}
        }
      ]
    },
    {
      "cell_type": "code",
      "source": [
        "from sklearn.model_selection import train_test_split\n",
        "\n",
        "# define features：the number of attempts and maximum score of each exercise\n",
        "features = ['Week 1 quiz', 'Week 2 quiz', 'Week 3 quiz', 'Week 4 quiz', 'Week 5 quiz', 'Week 6 quiz',\n",
        "            'Week 7 quiz', 'Week 8 quiz', 'Week 9 quiz', 'Week 10 quiz', 'Week 11 quiz', 'Week 12 quiz',\n",
        "            'Week 13 quiz', 'Week 14 quiz', 'Week 15 quiz', 'Week 16 quiz', 'Week 1 homework',\n",
        "            'Week 2 homework', 'Week 3 homework', 'Week 4 homework', 'Week 5 homework', 'Week 7 homework',\n",
        "            'Week 8 homework', 'Week 9 homework', 'Week 10 homework', 'Week 11 homework', 'Week 13 homework',\n",
        "            'Week 14 homework', 'Week 15 homework', 'Week 1 homework maxscore', 'Week 1 quiz maxscore',\n",
        "            'Week 10 homework maxscore', 'Week 10 quiz maxscore', 'Week 11 homework maxscore',\n",
        "            'Week 11 quiz maxscore', 'Week 12 quiz maxscore', 'Week 13 homework maxscore',\n",
        "            'Week 13 quiz maxscore', 'Week 14 homework maxscore', 'Week 14 quiz maxscore',\n",
        "            'Week 15 homework maxscore', 'Week 15 quiz maxscore', 'Week 16 quiz maxscore',\n",
        "            'Week 2 homework maxscore', 'Week 2 quiz maxscore', 'Week 3 homework maxscore',\n",
        "            'Week 3 quiz maxscore', 'Week 4 homework maxscore', 'Week 4 quiz maxscore',\n",
        "            'Week 5 homework maxscore', 'Week 5 quiz maxscore', 'Week 6 quiz maxscore',\n",
        "            'Week 7 homework maxscore', 'Week 7 quiz maxscore', 'Week 8 homework maxscore',\n",
        "            'Week 8 quiz maxscore', 'Week 9 homework maxscore', 'Week 9 quiz maxscore']\n",
        "\n",
        "# define target：to predict the final course score\n",
        "target = 'Score'\n",
        "\n",
        "# dataset regularization\n",
        "# split the data： 80%/20%\n",
        "merged_df[features] = merged_df[features].fillna(value=0).replace('-', 0).astype(float)\n",
        "merged_df[columns_name_score] = merged_df[columns_name_score].fillna(value=0).replace('-', 0).astype(float)\n",
        "\n",
        "train_df, test_df, train_labels, test_labels = train_test_split(merged_df[features],\n",
        "                                                                merged_df[target],\n",
        "                                                                test_size=0.2,\n",
        "                                                                random_state=42)"
      ],
      "metadata": {
        "id": "tDlq7GifAnP_"
      },
      "execution_count": 6,
      "outputs": []
    },
    {
      "cell_type": "code",
      "source": [
        "from sklearn.linear_model import LinearRegression\n",
        "from sklearn.tree import DecisionTreeRegressor\n",
        "from sklearn.ensemble import RandomForestRegressor\n",
        "from sklearn.svm import SVR\n",
        "from sklearn.preprocessing import StandardScaler"
      ],
      "metadata": {
        "id": "Jm8xzW6BhXQT"
      },
      "execution_count": 19,
      "outputs": []
    },
    {
      "cell_type": "code",
      "source": [
        "forest_model = RandomForestRegressor(\n",
        "    n_estimators=200,          # 增加树的数量\n",
        "    max_depth=10,              # 设置最大深度\n",
        "    min_samples_split=2,       # 调整最小样本拆分\n",
        "    min_samples_leaf=1,        # 调整最小叶节点样本数\n",
        "    max_features=\"sqrt\",       # 特征采样\n",
        "    random_state=42\n",
        ")\n",
        "forest_model.fit(train_df, train_labels)\n",
        "forest_predictions = forest_model.predict(test_df)"
      ],
      "metadata": {
        "id": "eI0P_C22PjhD"
      },
      "execution_count": 24,
      "outputs": []
    },
    {
      "cell_type": "code",
      "source": [
        "scaler = StandardScaler()\n",
        "X_train_scaled = scaler.fit_transform(train_df)\n",
        "X_test_scaled = scaler.transform(test_df)\n",
        "svm_model = SVR(\n",
        "    kernel=\"rbf\",   # 使用RBF核函数\n",
        "    C=1.0,          # 调整惩罚参数C\n",
        "    gamma=\"scale\",  # 自动调整gamma，也可以设置为具体的值\n",
        "    epsilon=0.1     # 调整epsilon\n",
        ")\n",
        "svm_model.fit(X_train_scaled, train_labels)\n",
        "svm_predictions = svm_model.predict(X_test_scaled)"
      ],
      "metadata": {
        "id": "4ZnH4g1ahVz8"
      },
      "execution_count": 26,
      "outputs": []
    },
    {
      "cell_type": "code",
      "source": [
        "from xgboost import XGBRegressor\n",
        "from sklearn.metrics import mean_squared_error, mean_absolute_error\n",
        "\n",
        "xgb = XGBRegressor(\n",
        "    n_estimators=1000,\n",
        "    learning_rate=0.01,  # 降低学习速率\n",
        "    max_depth=5,         # 设置树的最大深度\n",
        "    min_child_weight=1,  # 调整最小子样本拆分\n",
        "    colsample_bytree=0.8,  # 列采样\n",
        "    reg_alpha=0.1,        # L1正则化\n",
        "    reg_lambda=0.1,       # L2正则化\n",
        "    subsample=0.8,         # 子样本比例\n",
        "    random_state=42\n",
        ")\n",
        "xgb.fit(train_df, train_labels)\n",
        "\n",
        "y_pred = xgb.predict(test_df)\n",
        "\n",
        "mse = mean_squared_error(test_labels, y_pred)\n",
        "mae = mean_absolute_error(test_labels, y_pred)\n",
        "print(\"XGBoost的MSE:\", mse)\n",
        "print(\"XGBoost的MAE:\", mae)"
      ],
      "metadata": {
        "colab": {
          "base_uri": "https://localhost:8080/"
        },
        "id": "5nQ9hDeCmuq1",
        "outputId": "7d1e6371-a0ca-4936-87f1-bd2ba60f6594"
      },
      "execution_count": 16,
      "outputs": [
        {
          "output_type": "stream",
          "name": "stdout",
          "text": [
            "XGBoost的MSE: 232.7039975575997\n",
            "XGBoost的MAE: 10.866582130186018\n"
          ]
        }
      ]
    },
    {
      "cell_type": "code",
      "source": [
        "# Compare the effect of each model\n",
        "from sklearn.metrics import mean_squared_error, mean_absolute_error\n",
        "\n",
        "# Mean Squared Error\n",
        "forest_mse = mean_squared_error(test_labels, forest_predictions)\n",
        "svm_mse = mean_squared_error(test_labels, svm_predictions)\n",
        "# Mean Absolute Error\n",
        "forest_mae = mean_absolute_error(test_labels, forest_predictions)\n",
        "svm_mae = mean_absolute_error(test_labels, svm_predictions)\n",
        "# Print the compare results\n",
        "print(\"Mean Squared Error for forest_model: \", forest_mse, \"Mean Squared Error for svm_model: \", svm_mse)\n",
        "print(\"Mean Absolute Error for forest_model: \", forest_mae, \"Mean Absolute Error for svm_model: \", svm_mae)\n",
        "\n",
        "# Plot the compare results\n",
        "import matplotlib.pyplot as plt\n",
        "\n",
        "models = ['Random Forest', 'SVM', 'XGBoost']\n",
        "mse_values = [forest_mse, svm_mse, mse]\n",
        "mae_values = [forest_mae, svm_mae, mae]\n",
        "\n",
        "fig, axes = plt.subplots(nrows=1, ncols=2, figsize=(10, 4))\n",
        "\n",
        "axes[0].bar(models, mse_values)\n",
        "axes[0].set_title('Comparison of MSE among Models')\n",
        "axes[0].set_xlabel('Models')\n",
        "axes[0].set_ylabel('MSE')\n",
        "\n",
        "axes[1].bar(models, mae_values)\n",
        "axes[1].set_title('Comparison of MAE among Models')\n",
        "axes[1].set_xlabel('Models')\n",
        "axes[1].set_ylabel('MAE')\n",
        "\n",
        "plt.tight_layout()\n",
        "plt.show()"
      ],
      "metadata": {
        "colab": {
          "base_uri": "https://localhost:8080/",
          "height": 443
        },
        "id": "W0yDWZuVQCl9",
        "outputId": "9c46496c-1a64-4c55-985e-7cda341730a5"
      },
      "execution_count": 27,
      "outputs": [
        {
          "output_type": "stream",
          "name": "stdout",
          "text": [
            "Mean Squared Error for forest_model:  215.89506657302755 Mean Squared Error for svm_model:  654.6490133622668\n",
            "Mean Absolute Error for forest_model:  10.781337961185516 Mean Absolute Error for svm_model:  15.958777156571212\n"
          ]
        },
        {
          "output_type": "display_data",
          "data": {
            "text/plain": [
              "<Figure size 1000x400 with 2 Axes>"
            ],
            "image/png": "[encoded data removed]"
          },
          "metadata": {}
        }
      ]
    }
  ]
}