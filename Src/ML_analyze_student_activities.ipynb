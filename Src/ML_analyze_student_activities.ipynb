{
  "nbformat": 4,
  "nbformat_minor": 0,
  "metadata": {
    "colab": {
      "provenance": []
    },
    "kernelspec": {
      "name": "python3",
      "display_name": "Python 3"
    },
    "language_info": {
      "name": "python"
    }
  },
  "cells": [
    {
      "cell_type": "code",
      "source": [
        "import pandas as pd\n",
        "import numpy as np\n",
        "import seaborn as sns\n",
        "from sklearn.model_selection import train_test_split\n",
        "from sklearn.linear_model import LinearRegression\n",
        "from sklearn.metrics import mean_squared_error, r2_score\n",
        "from sklearn.ensemble import RandomForestClassifier\n",
        "from sklearn.preprocessing import LabelEncoder\n",
        "from google.colab import files"
      ],
      "metadata": {
        "id": "ePi8_QKZ6zJm"
      },
      "execution_count": 1,
      "outputs": []
    },
    {
      "cell_type": "code",
      "source": [
        "uploaded = files.upload()"
      ],
      "metadata": {
        "id": "rRfO9s5u67_O",
        "colab": {
          "base_uri": "https://localhost:8080/",
          "height": 111
        },
        "outputId": "6c2e6814-411f-4286-fd90-d8b282abf48b"
      },
      "execution_count": 2,
      "outputs": [
        {
          "output_type": "display_data",
          "data": {
            "text/plain": [
              "<IPython.core.display.HTML object>"
            ],
            "text/html": [
              "\n",
              "     <input type=\"file\" id=\"files-5791573f-cc46-439f-9fc6-b04ccd182ac0\" name=\"files[]\" multiple disabled\n",
              "        style=\"border:none\" />\n",
              "     <output id=\"result-5791573f-cc46-439f-9fc6-b04ccd182ac0\">\n",
              "      Upload widget is only available when the cell has been executed in the\n",
              "      current browser session. Please rerun this cell to enable.\n",
              "      </output>\n",
              "      <script>// Copyright 2017 Google LLC\n",
              "//\n",
              "// Licensed under the Apache License, Version 2.0 (the \"License\");\n",
              "// you may not use this file except in compliance with the License.\n",
              "// You may obtain a copy of the License at\n",
              "//\n",
              "//      http://www.apache.org/licenses/LICENSE-2.0\n",
              "//\n",
              "// Unless required by applicable law or agreed to in writing, software\n",
              "// distributed under the License is distributed on an \"AS IS\" BASIS,\n",
              "// WITHOUT WARRANTIES OR CONDITIONS OF ANY KIND, either express or implied.\n",
              "// See the License for the specific language governing permissions and\n",
              "// limitations under the License.\n",
              "\n",
              "/**\n",
              " * @fileoverview Helpers for google.colab Python module.\n",
              " */\n",
              "(function(scope) {\n",
              "function span(text, styleAttributes = {}) {\n",
              "  const element = document.createElement('span');\n",
              "  element.textContent = text;\n",
              "  for (const key of Object.keys(styleAttributes)) {\n",
              "    element.style[key] = styleAttributes[key];\n",
              "  }\n",
              "  return element;\n",
              "}\n",
              "\n",
              "// Max number of bytes which will be uploaded at a time.\n",
              "const MAX_PAYLOAD_SIZE = 100 * 1024;\n",
              "\n",
              "function _uploadFiles(inputId, outputId) {\n",
              "  const steps = uploadFilesStep(inputId, outputId);\n",
              "  const outputElement = document.getElementById(outputId);\n",
              "  // Cache steps on the outputElement to make it available for the next call\n",
              "  // to uploadFilesContinue from Python.\n",
              "  outputElement.steps = steps;\n",
              "\n",
              "  return _uploadFilesContinue(outputId);\n",
              "}\n",
              "\n",
              "// This is roughly an async generator (not supported in the browser yet),\n",
              "// where there are multiple asynchronous steps and the Python side is going\n",
              "// to poll for completion of each step.\n",
              "// This uses a Promise to block the python side on completion of each step,\n",
              "// then passes the result of the previous step as the input to the next step.\n",
              "function _uploadFilesContinue(outputId) {\n",
              "  const outputElement = document.getElementById(outputId);\n",
              "  const steps = outputElement.steps;\n",
              "\n",
              "  const next = steps.next(outputElement.lastPromiseValue);\n",
              "  return Promise.resolve(next.value.promise).then((value) => {\n",
              "    // Cache the last promise value to make it available to the next\n",
              "    // step of the generator.\n",
              "    outputElement.lastPromiseValue = value;\n",
              "    return next.value.response;\n",
              "  });\n",
              "}\n",
              "\n",
              "/**\n",
              " * Generator function which is called between each async step of the upload\n",
              " * process.\n",
              " * @param {string} inputId Element ID of the input file picker element.\n",
              " * @param {string} outputId Element ID of the output display.\n",
              " * @return {!Iterable<!Object>} Iterable of next steps.\n",
              " */\n",
              "function* uploadFilesStep(inputId, outputId) {\n",
              "  const inputElement = document.getElementById(inputId);\n",
              "  inputElement.disabled = false;\n",
              "\n",
              "  const outputElement = document.getElementById(outputId);\n",
              "  outputElement.innerHTML = '';\n",
              "\n",
              "  const pickedPromise = new Promise((resolve) => {\n",
              "    inputElement.addEventListener('change', (e) => {\n",
              "      resolve(e.target.files);\n",
              "    });\n",
              "  });\n",
              "\n",
              "  const cancel = document.createElement('button');\n",
              "  inputElement.parentElement.appendChild(cancel);\n",
              "  cancel.textContent = 'Cancel upload';\n",
              "  const cancelPromise = new Promise((resolve) => {\n",
              "    cancel.onclick = () => {\n",
              "      resolve(null);\n",
              "    };\n",
              "  });\n",
              "\n",
              "  // Wait for the user to pick the files.\n",
              "  const files = yield {\n",
              "    promise: Promise.race([pickedPromise, cancelPromise]),\n",
              "    response: {\n",
              "      action: 'starting',\n",
              "    }\n",
              "  };\n",
              "\n",
              "  cancel.remove();\n",
              "\n",
              "  // Disable the input element since further picks are not allowed.\n",
              "  inputElement.disabled = true;\n",
              "\n",
              "  if (!files) {\n",
              "    return {\n",
              "      response: {\n",
              "        action: 'complete',\n",
              "      }\n",
              "    };\n",
              "  }\n",
              "\n",
              "  for (const file of files) {\n",
              "    const li = document.createElement('li');\n",
              "    li.append(span(file.name, {fontWeight: 'bold'}));\n",
              "    li.append(span(\n",
              "        `(${file.type || 'n/a'}) - ${file.size} bytes, ` +\n",
              "        `last modified: ${\n",
              "            file.lastModifiedDate ? file.lastModifiedDate.toLocaleDateString() :\n",
              "                                    'n/a'} - `));\n",
              "    const percent = span('0% done');\n",
              "    li.appendChild(percent);\n",
              "\n",
              "    outputElement.appendChild(li);\n",
              "\n",
              "    const fileDataPromise = new Promise((resolve) => {\n",
              "      const reader = new FileReader();\n",
              "      reader.onload = (e) => {\n",
              "        resolve(e.target.result);\n",
              "      };\n",
              "      reader.readAsArrayBuffer(file);\n",
              "    });\n",
              "    // Wait for the data to be ready.\n",
              "    let fileData = yield {\n",
              "      promise: fileDataPromise,\n",
              "      response: {\n",
              "        action: 'continue',\n",
              "      }\n",
              "    };\n",
              "\n",
              "    // Use a chunked sending to avoid message size limits. See b/62115660.\n",
              "    let position = 0;\n",
              "    do {\n",
              "      const length = Math.min(fileData.byteLength - position, MAX_PAYLOAD_SIZE);\n",
              "      const chunk = new Uint8Array(fileData, position, length);\n",
              "      position += length;\n",
              "\n",
              "      const base64 = btoa(String.fromCharCode.apply(null, chunk));\n",
              "      yield {\n",
              "        response: {\n",
              "          action: 'append',\n",
              "          file: file.name,\n",
              "          data: base64,\n",
              "        },\n",
              "      };\n",
              "\n",
              "      let percentDone = fileData.byteLength === 0 ?\n",
              "          100 :\n",
              "          Math.round((position / fileData.byteLength) * 100);\n",
              "      percent.textContent = `${percentDone}% done`;\n",
              "\n",
              "    } while (position < fileData.byteLength);\n",
              "  }\n",
              "\n",
              "  // All done.\n",
              "  yield {\n",
              "    response: {\n",
              "      action: 'complete',\n",
              "    }\n",
              "  };\n",
              "}\n",
              "\n",
              "scope.google = scope.google || {};\n",
              "scope.google.colab = scope.google.colab || {};\n",
              "scope.google.colab._files = {\n",
              "  _uploadFiles,\n",
              "  _uploadFilesContinue,\n",
              "};\n",
              "})(self);\n",
              "</script> "
            ]
          },
          "metadata": {}
        },
        {
          "output_type": "stream",
          "name": "stdout",
          "text": [
            "Saving log.csv to log.csv\n",
            "Saving data.csv to data.csv\n"
          ]
        }
      ]
    },
    {
      "cell_type": "code",
      "source": [
        "# get the paths of original datasets\n",
        "data_path = '/content/data.csv'\n",
        "log_path = '/content/log.csv'\n",
        "\n",
        "# load data\n",
        "data_df = pd.read_csv(data_path)\n",
        "log_df = pd.read_csv(log_path)\n",
        "\n",
        "columns_with_missing_values = ['Week 3 quiz', 'Week 4 quiz', 'Week 5 quiz', 'Week 6 quiz',\n",
        "       'Week 7 quiz', 'Week 8 quiz', 'Week 9 quiz', 'Week 10 quiz',\n",
        "       'Week 11 quiz', 'Week 12 quiz', 'Week 13 quiz', 'Week 14 quiz',\n",
        "       'Week 15 quiz', 'Week 16 quiz', 'Week 3 homework', 'Week 4 homework', 'Week 5 homework',\n",
        "       'Week 7 homework', 'Week 8 homework', 'Week 9 homework',\n",
        "       'Week 10 homework', 'Week 11 homework', 'Week 13 homework',\n",
        "       'Week 14 homework', 'Week 15 homework']\n",
        "columns_not_missing_values = ['Week 1 quiz', 'Week 2 quiz',\n",
        "       'Week 3 quiz', 'Week 4 quiz', 'Week 5 quiz', 'Week 6 quiz',\n",
        "       'Week 7 quiz', 'Week 8 quiz', 'Week 9 quiz', 'Week 10 quiz',\n",
        "       'Week 11 quiz', 'Week 12 quiz', 'Week 13 quiz', 'Week 14 quiz',\n",
        "       'Week 15 quiz', 'Week 16 quiz', 'Week 1 homework', 'Week 2 homework',\n",
        "       'Week 3 homework', 'Week 4 homework', 'Week 5 homework',\n",
        "       'Week 7 homework', 'Week 8 homework', 'Week 9 homework',\n",
        "       'Week 10 homework', 'Week 11 homework', 'Week 13 homework',\n",
        "       'Week 14 homework', 'Week 15 homework']\n",
        "\n",
        "columns_name_student = \"Student\"\n",
        "columns_name_score = \"Score\"\n",
        "columns_name_grade = \"Grade\"\n",
        "\n",
        "columns_name_activity = \"Activity\"\n",
        "columns_name_day = \"Day\"\n",
        "columns_name_time = \"Time\"\n",
        "add_column_activity_weeknumber = \"Activity_Num\"\n",
        "add_column_activity_score = \"Activity Score\""
      ],
      "metadata": {
        "id": "3MLIFLyFA_Q2"
      },
      "execution_count": 3,
      "outputs": []
    },
    {
      "cell_type": "code",
      "source": [
        "# in data_df, subsititute - with NaN in column score\n",
        "data_df[columns_name_score] = data_df[columns_name_score].replace('-', np.nan)\n",
        "data_df[columns_name_score] = pd.to_numeric(data_df[columns_name_score], errors='coerce')\n",
        "\n",
        "# in data_df, delete the data that does not participate in any activity or got F due to other activtiy\n",
        "# in data_df, delete the data that got A due to pre-exam\n",
        "data_df = data_df.dropna(subset=[columns_name_score])\n",
        "data_df = data_df.drop(data_df[(data_df[columns_name_score] > 50) & (data_df[columns_name_grade] == 'F')].index)\n",
        "\n",
        "conditions = (data_df[columns_with_missing_values].eq(0).all(axis=1)) & (data_df[columns_name_grade] == 'A')\n",
        "data_df = data_df[~conditions]\n",
        "\n",
        "# in log_df, delete the data after ddl\n",
        "log_df[columns_name_time] = pd.to_datetime(log_df[columns_name_time])\n",
        "log_df[add_column_activity_weeknumber] = log_df[columns_name_activity].str.extract(r\"(\\d+)\")\n",
        "log_df[add_column_activity_weeknumber] = log_df[add_column_activity_weeknumber].astype(int)\n",
        "\n",
        "week1 = (log_df[add_column_activity_weeknumber] == 1)\n",
        "week2_16 = (log_df[add_column_activity_weeknumber] > 1) & (log_df[add_column_activity_weeknumber] <= 16)\n",
        "\n",
        "time_start_for_week2_16 = (log_df[columns_name_time].dt.time < pd.to_datetime('18:00:00').time())\n",
        "time_end_for_week2_16 = (log_df[columns_name_time].dt.time > pd.to_datetime('8:00:00').time())\n",
        "\n",
        "invalid_for_week1 = (log_df[columns_name_day] < 1) | (log_df[columns_name_day] > 7)\n",
        "\n",
        "invalid_start_for_week2_16 = (log_df[columns_name_day] < (7 * (log_df[add_column_activity_weeknumber] -1) - 3)) | ((log_df[columns_name_day] == (7 * (log_df[add_column_activity_weeknumber] -1) - 3)) & time_start_for_week2_16)\n",
        "invalid_end_for_week2_16 = (log_df[columns_name_day] > (7 * (log_df[add_column_activity_weeknumber] -1) + 4)) | ((log_df[columns_name_day] == (7 * (log_df[add_column_activity_weeknumber] -1) + 4)) & time_end_for_week2_16)\n",
        "\n",
        "condition1 = week1 & invalid_for_week1\n",
        "condition2 = week2_16 & (invalid_start_for_week2_16 | invalid_end_for_week2_16)\n",
        "\n",
        "log_df = log_df.drop(log_df[condition1].index)\n",
        "log_df = log_df.drop(log_df[condition2].index)\n",
        "\n",
        "log_df = log_df.drop(add_column_activity_weeknumber, axis=1)\n",
        "log_df = log_df.drop(columns_name_day, axis=1)\n",
        "log_df = log_df.drop(columns_name_time, axis=1)\n",
        "\n",
        "# in log_df, detele all the data without maximum score\n",
        "max_score_df = log_df.groupby([columns_name_student, columns_name_activity])[columns_name_score].max().reset_index()\n",
        "log_df = log_df.merge(max_score_df, on=[columns_name_student, columns_name_activity, columns_name_score], how='inner')\n",
        "log_df.drop_duplicates(subset=[columns_name_student, columns_name_activity], keep='first', inplace=True)"
      ],
      "metadata": {
        "colab": {
          "base_uri": "https://localhost:8080/"
        },
        "id": "pkTderTzAwMt",
        "outputId": "6a33438e-e7ce-4183-80bf-dabed9db9a9a"
      },
      "execution_count": 4,
      "outputs": [
        {
          "output_type": "stream",
          "name": "stderr",
          "text": [
            "<ipython-input-4-0d9c07742147>:33: UserWarning: Boolean Series key will be reindexed to match DataFrame index.\n",
            "  log_df = log_df.drop(log_df[condition2].index)\n"
          ]
        }
      ]
    },
    {
      "cell_type": "code",
      "source": [
        "# merge data_df and log_df based on Student and Activity\n",
        "pivoted_log_df = log_df.pivot(index='Student', columns='Activity', values='Score')\n",
        "pivoted_log_df.columns = [f'{col} maxscore' for col in pivoted_log_df.columns]\n",
        "merged_df = data_df.merge(pivoted_log_df, left_on='Student', right_index=True, how='left')"
      ],
      "metadata": {
        "id": "o5zDDGXnKoeb"
      },
      "execution_count": 5,
      "outputs": []
    },
    {
      "cell_type": "code",
      "source": [
        "data_df.to_csv('/content/data_df.csv', index=False)\n",
        "files.download('/content/data_df.csv')"
      ],
      "metadata": {
        "id": "8rBwjbw5D9pO"
      },
      "execution_count": null,
      "outputs": []
    },
    {
      "cell_type": "code",
      "source": [
        "log_df.to_csv('/content/log_df.csv', index=False)\n",
        "files.download('/content/log_df.csv')"
      ],
      "metadata": {
        "colab": {
          "base_uri": "https://localhost:8080/",
          "height": 17
        },
        "id": "AEkOg2ai6Qct",
        "outputId": "e30960e4-65fd-40ab-c1e5-3abb7fb9ba7e"
      },
      "execution_count": null,
      "outputs": [
        {
          "output_type": "display_data",
          "data": {
            "text/plain": [
              "<IPython.core.display.Javascript object>"
            ],
            "application/javascript": [
              "\n",
              "    async function download(id, filename, size) {\n",
              "      if (!google.colab.kernel.accessAllowed) {\n",
              "        return;\n",
              "      }\n",
              "      const div = document.createElement('div');\n",
              "      const label = document.createElement('label');\n",
              "      label.textContent = `Downloading \"${filename}\": `;\n",
              "      div.appendChild(label);\n",
              "      const progress = document.createElement('progress');\n",
              "      progress.max = size;\n",
              "      div.appendChild(progress);\n",
              "      document.body.appendChild(div);\n",
              "\n",
              "      const buffers = [];\n",
              "      let downloaded = 0;\n",
              "\n",
              "      const channel = await google.colab.kernel.comms.open(id);\n",
              "      // Send a message to notify the kernel that we're ready.\n",
              "      channel.send({})\n",
              "\n",
              "      for await (const message of channel.messages) {\n",
              "        // Send a message to notify the kernel that we're ready.\n",
              "        channel.send({})\n",
              "        if (message.buffers) {\n",
              "          for (const buffer of message.buffers) {\n",
              "            buffers.push(buffer);\n",
              "            downloaded += buffer.byteLength;\n",
              "            progress.value = downloaded;\n",
              "          }\n",
              "        }\n",
              "      }\n",
              "      const blob = new Blob(buffers, {type: 'application/binary'});\n",
              "      const a = document.createElement('a');\n",
              "      a.href = window.URL.createObjectURL(blob);\n",
              "      a.download = filename;\n",
              "      div.appendChild(a);\n",
              "      a.click();\n",
              "      div.remove();\n",
              "    }\n",
              "  "
            ]
          },
          "metadata": {}
        },
        {
          "output_type": "display_data",
          "data": {
            "text/plain": [
              "<IPython.core.display.Javascript object>"
            ],
            "application/javascript": [
              "download(\"download_85c56fdf-edb8-43ce-a7a5-72b26efcd37d\", \"log_df.csv\", 248077)"
            ]
          },
          "metadata": {}
        }
      ]
    },
    {
      "cell_type": "code",
      "source": [
        "merged_df.to_csv('/content/merged_df.csv', index=False)\n",
        "files.download('/content/merged_df.csv')"
      ],
      "metadata": {
        "id": "TqfpjctxAWdB",
        "colab": {
          "base_uri": "https://localhost:8080/",
          "height": 17
        },
        "outputId": "d28e34b9-96a9-4351-df92-1575fcf50ae0"
      },
      "execution_count": null,
      "outputs": [
        {
          "output_type": "display_data",
          "data": {
            "text/plain": [
              "<IPython.core.display.Javascript object>"
            ],
            "application/javascript": [
              "\n",
              "    async function download(id, filename, size) {\n",
              "      if (!google.colab.kernel.accessAllowed) {\n",
              "        return;\n",
              "      }\n",
              "      const div = document.createElement('div');\n",
              "      const label = document.createElement('label');\n",
              "      label.textContent = `Downloading \"${filename}\": `;\n",
              "      div.appendChild(label);\n",
              "      const progress = document.createElement('progress');\n",
              "      progress.max = size;\n",
              "      div.appendChild(progress);\n",
              "      document.body.appendChild(div);\n",
              "\n",
              "      const buffers = [];\n",
              "      let downloaded = 0;\n",
              "\n",
              "      const channel = await google.colab.kernel.comms.open(id);\n",
              "      // Send a message to notify the kernel that we're ready.\n",
              "      channel.send({})\n",
              "\n",
              "      for await (const message of channel.messages) {\n",
              "        // Send a message to notify the kernel that we're ready.\n",
              "        channel.send({})\n",
              "        if (message.buffers) {\n",
              "          for (const buffer of message.buffers) {\n",
              "            buffers.push(buffer);\n",
              "            downloaded += buffer.byteLength;\n",
              "            progress.value = downloaded;\n",
              "          }\n",
              "        }\n",
              "      }\n",
              "      const blob = new Blob(buffers, {type: 'application/binary'});\n",
              "      const a = document.createElement('a');\n",
              "      a.href = window.URL.createObjectURL(blob);\n",
              "      a.download = filename;\n",
              "      div.appendChild(a);\n",
              "      a.click();\n",
              "      div.remove();\n",
              "    }\n",
              "  "
            ]
          },
          "metadata": {}
        },
        {
          "output_type": "display_data",
          "data": {
            "text/plain": [
              "<IPython.core.display.Javascript object>"
            ],
            "application/javascript": [
              "download(\"download_2dd16869-f01e-4759-b01a-9e09651c84e6\", \"merged_df.csv\", 85891)"
            ]
          },
          "metadata": {}
        }
      ]
    },
    {
      "cell_type": "code",
      "source": [
        "from sklearn.model_selection import train_test_split\n",
        "\n",
        "# define features：the number of attempts and maximum score of each exercise\n",
        "features = ['Week 1 quiz', 'Week 2 quiz', 'Week 3 quiz', 'Week 4 quiz', 'Week 5 quiz', 'Week 6 quiz',\n",
        "            'Week 7 quiz', 'Week 8 quiz', 'Week 9 quiz', 'Week 10 quiz', 'Week 11 quiz', 'Week 12 quiz',\n",
        "            'Week 13 quiz', 'Week 14 quiz', 'Week 15 quiz', 'Week 16 quiz', 'Week 1 homework',\n",
        "            'Week 2 homework', 'Week 3 homework', 'Week 4 homework', 'Week 5 homework', 'Week 7 homework',\n",
        "            'Week 8 homework', 'Week 9 homework', 'Week 10 homework', 'Week 11 homework', 'Week 13 homework',\n",
        "            'Week 14 homework', 'Week 15 homework', 'Week 1 homework maxscore', 'Week 1 quiz maxscore',\n",
        "            'Week 10 homework maxscore', 'Week 10 quiz maxscore', 'Week 11 homework maxscore',\n",
        "            'Week 11 quiz maxscore', 'Week 12 quiz maxscore', 'Week 13 homework maxscore',\n",
        "            'Week 13 quiz maxscore', 'Week 14 homework maxscore', 'Week 14 quiz maxscore',\n",
        "            'Week 15 homework maxscore', 'Week 15 quiz maxscore', 'Week 16 quiz maxscore',\n",
        "            'Week 2 homework maxscore', 'Week 2 quiz maxscore', 'Week 3 homework maxscore',\n",
        "            'Week 3 quiz maxscore', 'Week 4 homework maxscore', 'Week 4 quiz maxscore',\n",
        "            'Week 5 homework maxscore', 'Week 5 quiz maxscore', 'Week 6 quiz maxscore',\n",
        "            'Week 7 homework maxscore', 'Week 7 quiz maxscore', 'Week 8 homework maxscore',\n",
        "            'Week 8 quiz maxscore', 'Week 9 homework maxscore', 'Week 9 quiz maxscore']\n",
        "\n",
        "# define target：to predict the final course score\n",
        "target = 'Score'\n",
        "\n",
        "# dataset regularization\n",
        "# split the data： 80%/20%\n",
        "merged_df[features] = merged_df[features].fillna(value=0).replace('-', 0).astype(float)\n",
        "merged_df[columns_name_score] = merged_df[columns_name_score].fillna(value=0).replace('-', 0).astype(float)\n",
        "\n",
        "train_df, test_df, train_labels, test_labels = train_test_split(merged_df[features],\n",
        "                                                                merged_df[target],\n",
        "                                                                test_size=0.2,\n",
        "                                                                random_state=42)"
      ],
      "metadata": {
        "id": "tDlq7GifAnP_"
      },
      "execution_count": 6,
      "outputs": []
    },
    {
      "cell_type": "code",
      "source": [
        "from sklearn.linear_model import LinearRegression\n",
        "from sklearn.tree import DecisionTreeRegressor\n",
        "from sklearn.ensemble import RandomForestRegressor\n",
        "\n",
        "# initical the models\n",
        "linear_model = LinearRegression()\n",
        "tree_model = DecisionTreeRegressor()\n",
        "forest_model = RandomForestRegressor()\n",
        "\n",
        "# perform model training\n",
        "linear_model.fit(train_df, train_labels)\n",
        "tree_model.fit(train_df, train_labels)\n",
        "forest_model.fit(train_df, train_labels)\n",
        "\n",
        "# predictions on the test set\n",
        "linear_predictions = linear_model.predict(test_df)\n",
        "tree_predictions = tree_model.predict(test_df)\n",
        "forest_predictions = forest_model.predict(test_df)"
      ],
      "metadata": {
        "id": "eI0P_C22PjhD"
      },
      "execution_count": 7,
      "outputs": []
    },
    {
      "cell_type": "code",
      "source": [
        "# Compare the effect of each model\n",
        "from sklearn.metrics import mean_squared_error, mean_absolute_error\n",
        "\n",
        "# Mean Squared Error\n",
        "linear_mse = mean_squared_error(test_labels, linear_predictions)\n",
        "tree_mse = mean_squared_error(test_labels, tree_predictions)\n",
        "forest_mse = mean_squared_error(test_labels, forest_predictions)\n",
        "\n",
        "# Mean Absolute Error\n",
        "linear_mae = mean_absolute_error(test_labels, linear_predictions)\n",
        "tree_mae = mean_absolute_error(test_labels, tree_predictions)\n",
        "forest_mae = mean_absolute_error(test_labels, forest_predictions)\n",
        "\n",
        "# Print the compare results\n",
        "print(\"Mean Squared Error for linear_model: \", linear_mse, \"Mean Squared Error for tree_model: \", tree_mse, \"Mean Squared Error for forest_model: \", forest_mse)\n",
        "print(\"Mean Absolute Error for linear_model: \", linear_mae, \"Mean Absolute Error for tree_model: \", tree_mae, \"Mean Absolute Error for forest_model: \", forest_mae)\n",
        "\n",
        "# Plot the compare results\n",
        "import matplotlib.pyplot as plt\n",
        "\n",
        "models = ['Linear Regression', 'Decision Tree', 'Random Forest']\n",
        "mse_values = [linear_mse, tree_mse, forest_mse]\n",
        "mae_values = [linear_mae, tree_mae, forest_mae]\n",
        "\n",
        "fig, axes = plt.subplots(nrows=1, ncols=2, figsize=(10, 4))\n",
        "\n",
        "axes[0].bar(models, mse_values)\n",
        "axes[0].set_title('Comparison of MSE among Models')\n",
        "axes[0].set_xlabel('Models')\n",
        "axes[0].set_ylabel('MSE')\n",
        "\n",
        "axes[1].bar(models, mae_values)\n",
        "axes[1].set_title('Comparison of MAE among Models')\n",
        "axes[1].set_xlabel('Models')\n",
        "axes[1].set_ylabel('MAE')\n",
        "\n",
        "plt.tight_layout()\n",
        "plt.show()"
      ],
      "metadata": {
        "colab": {
          "base_uri": "https://localhost:8080/",
          "height": 442
        },
        "id": "W0yDWZuVQCl9",
        "outputId": "3f021abb-1c84-4c28-a7cf-1dff72a712fe"
      },
      "execution_count": 8,
      "outputs": [
        {
          "output_type": "stream",
          "name": "stdout",
          "text": [
            "Mean Squared Error for linear_model:  395.7267766850104 Mean Squared Error for tree_model:  444.83532142857143 Mean Squared Error for forest_model:  282.30617467226193\n",
            "Mean Absolute Error for linear_model:  13.704266029499294 Mean Absolute Error for tree_model:  14.149047619047616 Mean Absolute Error for forest_model:  11.435186904761906\n"
          ]
        },
        {
          "output_type": "display_data",
          "data": {
            "text/plain": [
              "<Figure size 1000x400 with 2 Axes>"
            ],
            "image/png": "[encoded data removed]"
          },
          "metadata": {}
        }
      ]
    }
  ]
}