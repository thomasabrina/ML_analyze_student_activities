{
  "nbformat": 4,
  "nbformat_minor": 0,
  "metadata": {
    "colab": {
      "provenance": []
    },
    "kernelspec": {
      "name": "python3",
      "display_name": "Python 3"
    },
    "language_info": {
      "name": "python"
    }
  },
  "cells": [
    {
      "cell_type": "markdown",
      "source": [
        "**Project domain**: ML on Tabular Data\n",
        "\n",
        "**Title**: P07 - Analyzing student activity in the Computer Programming course\n",
        "\n",
        "**Description**: The dataset consists of the numbers of attempts made by 467 students in 16 weekly quizzes and 13 homeworks in the introductory computer programming course. The goals are: 1) Predict the final score or grade, or at least identify the students who might be struggling, based on their early activity. 2) Classify the students based on their typical study patterns.\n",
        "\n",
        "**Contact Person**: Reimo Palm\n"
      ],
      "metadata": {
        "id": "BiI85m0oLoHc"
      }
    }
  ]
}